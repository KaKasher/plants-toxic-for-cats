{
 "cells": [
  {
   "metadata": {},
   "cell_type": "markdown",
   "source": [
    "# Scraping data\n",
    "In this notebook we will test different scraping options to get our images for training our model.\\\n",
    "We'll try getting our images from google images, bing and duckduckgo.\\\n",
    "Our aim is to have about 2000 images per class."
   ],
   "id": "96e7d9e58679c3fb"
  },
  {
   "metadata": {
    "ExecuteTime": {
     "end_time": "2024-05-24T18:19:10.740661Z",
     "start_time": "2024-05-24T18:19:10.735388Z"
    }
   },
   "cell_type": "code",
   "source": [
    "from pathlib import Path\n",
    "data_path = Path(\"../data\")\n",
    "\n",
    "if (data_path / \"plants_not_safe_for_cats.txt\").exists():\n",
    "    with open(data_path / \"plants_not_safe_for_cats.txt\", \"r\") as f:\n",
    "        plants_not_safe_for_cats = f.read().splitlines()\n",
    "else:\n",
    "    print(\"File 'plants_not_safe_for_cats.txt' not found\")"
   ],
   "id": "999f88ea4031496f",
   "outputs": [],
   "execution_count": 1
  },
  {
   "metadata": {},
   "cell_type": "markdown",
   "source": [
    "\n",
    "We have a txt file of plant names that are not safe for cats. Some of these have different names (aliases) put in parentheses.\\\n",
    "We want to create a dictionary structure to store a name and different names under it."
   ],
   "id": "5ecfdc9115ba569c"
  },
  {
   "metadata": {
    "ExecuteTime": {
     "end_time": "2024-05-24T16:14:26.630108Z",
     "start_time": "2024-05-24T16:14:26.624777Z"
    }
   },
   "cell_type": "code",
   "source": "plants_not_safe_for_cats[10:15]",
   "id": "25843dbebfedae10",
   "outputs": [
    {
     "data": {
      "text/plain": [
       "['Tiger lily (lilium lancifolium, tigrinum)',\n",
       " 'Western or wood lily (lilium umbellatum)',\n",
       " 'Senecio (daisy bush, Brachyglottis greyi)',\n",
       " 'Sweet Pea (Lathyrus)',\n",
       " 'Chrysanthemum']"
      ]
     },
     "execution_count": 2,
     "metadata": {},
     "output_type": "execute_result"
    }
   ],
   "execution_count": 2
  },
  {
   "metadata": {
    "ExecuteTime": {
     "end_time": "2024-05-24T18:19:15.676768Z",
     "start_time": "2024-05-24T18:19:15.671286Z"
    }
   },
   "cell_type": "code",
   "source": [
    "dict_plants_not_safe_for_cats = {}\n",
    "for line in plants_not_safe_for_cats:\n",
    "    parts = line.split(\"(\")\n",
    "    plant_name = parts[0].strip()\n",
    "    aliases = parts[1].rstrip(')').strip() if len(parts) > 1 else []\n",
    "    aliases = [s.strip() for s in aliases.split(\",\")] if aliases != [] else []\n",
    "    \n",
    "    if plant_name in dict_plants_not_safe_for_cats:\n",
    "        print(f\"Duplicate key: {plant_name}\")\n",
    "    else:\n",
    "        dict_plants_not_safe_for_cats[plant_name] = aliases\n"
   ],
   "id": "4fbb81a779dc0c62",
   "outputs": [
    {
     "name": "stdout",
     "output_type": "stream",
     "text": [
      "Duplicate key: Amaryllis\n",
      "Duplicate key: Anthurium\n"
     ]
    }
   ],
   "execution_count": 2
  },
  {
   "metadata": {
    "ExecuteTime": {
     "end_time": "2024-05-24T18:19:18.636677Z",
     "start_time": "2024-05-24T18:19:18.629344Z"
    }
   },
   "cell_type": "code",
   "source": "len(dict_plants_not_safe_for_cats)",
   "id": "ac6ca52d933e20f",
   "outputs": [
    {
     "data": {
      "text/plain": [
       "96"
      ]
     },
     "execution_count": 3,
     "metadata": {},
     "output_type": "execute_result"
    }
   ],
   "execution_count": 3
  },
  {
   "metadata": {},
   "cell_type": "markdown",
   "source": "We had 2 duplicate plants in our txt file. That's why we have 2 less keys than the number of lines in the file.",
   "id": "e65286aefadaa740"
  },
  {
   "metadata": {
    "ExecuteTime": {
     "end_time": "2024-05-24T16:14:26.646180Z",
     "start_time": "2024-05-24T16:14:26.641275Z"
    }
   },
   "cell_type": "code",
   "source": "dict_plants_not_safe_for_cats",
   "id": "3f7222ad4c175561",
   "outputs": [
    {
     "data": {
      "text/plain": [
       "{'Asiatic lily': ['Lilium x asiatica'],\n",
       " 'Convallaria': ['Lily of the Valley'],\n",
       " 'Easter lily': ['lilium longiforum'],\n",
       " 'Japanese showy lily': ['lilium hydridum'],\n",
       " 'Madonna lily': ['lilium candidum'],\n",
       " 'Roselily': [],\n",
       " 'Royal lily': ['lilium regale'],\n",
       " 'Rubrum lily': ['lilium rubrum'],\n",
       " 'Star of Bethlehem': ['Ornithogalum'],\n",
       " 'Stargazer lily': ['lilium orientalis'],\n",
       " 'Tiger lily': ['lilium lancifolium', 'tigrinum'],\n",
       " 'Western or wood lily': ['lilium umbellatum'],\n",
       " 'Senecio': ['daisy bush', 'Brachyglottis greyi'],\n",
       " 'Sweet Pea': ['Lathyrus'],\n",
       " 'Chrysanthemum': [],\n",
       " 'Delphinium': ['larkspur'],\n",
       " 'Achillea': ['yarrow', 'milfoil', 'carpenter’s weed'],\n",
       " 'Allium': ['ornamental onion', 'garlic', 'lily leek'],\n",
       " 'Alstroemeria': ['Peruvian lily', 'Lily of Incas'],\n",
       " 'Amaryllis': ['Hippeastrum'],\n",
       " 'Ammi': ['Queen Anne’s Lace', 'bullwort', 'common bishop’s weed'],\n",
       " 'Anemone': ['windflower'],\n",
       " 'Anthurium': ['flamingo flower'],\n",
       " 'Bird of Paradise': ['Strelitzia', 'Crane flower'],\n",
       " 'Broom': ['Cytisus'],\n",
       " 'Bupleurum': ['Bulpleurum rotundifolium Griffithii', 'hare’s ear'],\n",
       " 'Calla Lily': ['Zantedeschia', 'trumpet lily', 'arum'],\n",
       " 'Carnation': ['Dianthus', 'clove pink'],\n",
       " 'Cestrum': ['Solanales', 'jessamine'],\n",
       " 'Clematis': [],\n",
       " 'Craspedia': ['Billy buttons'],\n",
       " 'Daffodil': ['Narcissus'],\n",
       " 'Dahlia': [],\n",
       " 'Euphorbia': ['Spurge'],\n",
       " 'Gladiolus': [],\n",
       " 'Gloriosa': ['glory lily', 'flame lily'],\n",
       " 'Golden rod': ['Solidago'],\n",
       " 'Gypsophila': ['baby’s breath'],\n",
       " 'Heather': ['Calluna vulgaris'],\n",
       " 'Hyacinth': [],\n",
       " 'Hydrangea': [],\n",
       " 'Iris': ['flag', 'snake lily'],\n",
       " 'Lavender': ['Lavandula'],\n",
       " 'Peony': ['Paeonia lactiflora'],\n",
       " 'Physalis alkekengi': ['winter cherry', 'chinese lantern'],\n",
       " 'Poppy': ['Papaver'],\n",
       " 'Ranunculus': ['Persian buttercup'],\n",
       " 'Scilla': ['Squill'],\n",
       " 'September flower': ['aster', 'Michelmas daisy'],\n",
       " 'Sweet William': ['Dianthus barbatus'],\n",
       " 'Tagetes': ['African Marigold'],\n",
       " 'Tanacetum': ['Tansy'],\n",
       " 'Tulip': ['Tulipa'],\n",
       " 'Tansy': ['tancetum vulgare', 'Senicio', 'golden ragwort'],\n",
       " 'Cycad': ['Cycas revolute', 'Sago palm', 'Zamia', 'Fern palm'],\n",
       " 'Agave': ['Century plant'],\n",
       " 'Alocasia': ['Dwarf taro'],\n",
       " 'Aloe vera': ['Liliaceae family'],\n",
       " 'Ant plant': ['Hydnophytum papuanum', 'Maze plant'],\n",
       " 'Arrow head vine': ['African evergreen'],\n",
       " 'Asparagus fern': ['feathery asparagus'],\n",
       " 'Bird of paradise': ['Strelitzia reginae/nicolai', 'Crane flower'],\n",
       " 'Begonia': [],\n",
       " 'Brunfelsia pauciflora': [],\n",
       " 'Caladium': [],\n",
       " 'Calla lily': ['Zantedeschia', 'arum lily', 'trumpet lily'],\n",
       " 'Castanospermum': ['moreton bay chestnut'],\n",
       " 'Cheese plant': ['Monstera', 'Indian ivy'],\n",
       " 'Chinese evergreen': ['Aglaonema'],\n",
       " 'Clusia': ['autograph tree'],\n",
       " 'Coleus': ['Solenostemon', 'Indian borage', 'stinging thyme'],\n",
       " 'Cyclamen': [],\n",
       " 'Dracaena': ['Corn plant', 'Dragon tree', 'lucky bamboo'],\n",
       " 'Dumb cane': ['Dieffenbachia'],\n",
       " 'English ivy': ['Hedera Helix', 'common ivy'],\n",
       " 'Ficus benjamina': ['Benjamin tree',\n",
       "  'java fig',\n",
       "  'java tree',\n",
       "  'smallleaved rubber plant',\n",
       "  'tropic laurel',\n",
       "  'Indian rubber plant',\n",
       "  'weeping fig'],\n",
       " 'Fiddle leaf fig': ['Ficus lyrata', 'Banjo fig'],\n",
       " 'Fishtail palm': ['Caryota mitis'],\n",
       " 'Gladioli bulb': ['sword lily'],\n",
       " 'Homalomena rubescens': ['Red shield plant', 'Queen of hearts'],\n",
       " 'Hyacinths bulb': [],\n",
       " 'Iron Cross begonia': ['Begonia masoniana'],\n",
       " 'Jade plant': ['Crassula ovata', 'money plant'],\n",
       " 'Kalanchoe': ['Mother of thousands', 'panda plant', 'flaming Katy'],\n",
       " 'Peace lily': ['Spathiphyllum wallisii', 'White sails'],\n",
       " 'Pencil cactus': ['Cactus euphorbia tirucalli', 'Cactus spurge'],\n",
       " 'Philodendron': ['scandens',\n",
       "  'Heart leaf',\n",
       "  'Sweetheart plant',\n",
       "  'Araceae',\n",
       "  'Monstera'],\n",
       " 'Poinsettia': ['euphorbia', 'Christmas flower'],\n",
       " 'Polyscias fabian': ['Dinner plate aralia', 'Ployscias aralia'],\n",
       " 'Pothos': ['Scindapsus', 'Devil’s Ivy', 'Taro vine', 'Ivy arum'],\n",
       " 'Rubber plant': ['Ficus', 'Benjamin tree', 'weeping fig'],\n",
       " 'Schefflera': ['Umbrella tree', 'octopus tree'],\n",
       " 'Snake plant': ['Sanseviera',\n",
       "  'Mother in law’s tongue',\n",
       "  'Viper’s bowstring hemp'],\n",
       " 'Tradescantia': ['Wandering Jew plant', 'Speedy Henry'],\n",
       " 'Yucca': ['Asparagaceae family', 'Agavoideae'],\n",
       " 'Zamioculcas zamiifolia': ['ZZ plant', 'Zanzibar gem', 'Fern arum']}"
      ]
     },
     "execution_count": 5,
     "metadata": {},
     "output_type": "execute_result"
    }
   ],
   "execution_count": 5
  },
  {
   "metadata": {
    "ExecuteTime": {
     "end_time": "2024-05-24T16:14:26.650528Z",
     "start_time": "2024-05-24T16:14:26.647054Z"
    }
   },
   "cell_type": "code",
   "source": [
    "# Loop through the dictionary\n",
    "for key, value in dict_plants_not_safe_for_cats.items():\n",
    "    print(f\"{key}: {value}\")"
   ],
   "id": "26767d00371bbd50",
   "outputs": [
    {
     "name": "stdout",
     "output_type": "stream",
     "text": [
      "Asiatic lily: ['Lilium x asiatica']\n",
      "Convallaria: ['Lily of the Valley']\n",
      "Easter lily: ['lilium longiforum']\n",
      "Japanese showy lily: ['lilium hydridum']\n",
      "Madonna lily: ['lilium candidum']\n",
      "Roselily: []\n",
      "Royal lily: ['lilium regale']\n",
      "Rubrum lily: ['lilium rubrum']\n",
      "Star of Bethlehem: ['Ornithogalum']\n",
      "Stargazer lily: ['lilium orientalis']\n",
      "Tiger lily: ['lilium lancifolium', 'tigrinum']\n",
      "Western or wood lily: ['lilium umbellatum']\n",
      "Senecio: ['daisy bush', 'Brachyglottis greyi']\n",
      "Sweet Pea: ['Lathyrus']\n",
      "Chrysanthemum: []\n",
      "Delphinium: ['larkspur']\n",
      "Achillea: ['yarrow', 'milfoil', 'carpenter’s weed']\n",
      "Allium: ['ornamental onion', 'garlic', 'lily leek']\n",
      "Alstroemeria: ['Peruvian lily', 'Lily of Incas']\n",
      "Amaryllis: ['Hippeastrum']\n",
      "Ammi: ['Queen Anne’s Lace', 'bullwort', 'common bishop’s weed']\n",
      "Anemone: ['windflower']\n",
      "Anthurium: ['flamingo flower']\n",
      "Bird of Paradise: ['Strelitzia', 'Crane flower']\n",
      "Broom: ['Cytisus']\n",
      "Bupleurum: ['Bulpleurum rotundifolium Griffithii', 'hare’s ear']\n",
      "Calla Lily: ['Zantedeschia', 'trumpet lily', 'arum']\n",
      "Carnation: ['Dianthus', 'clove pink']\n",
      "Cestrum: ['Solanales', 'jessamine']\n",
      "Clematis: []\n",
      "Craspedia: ['Billy buttons']\n",
      "Daffodil: ['Narcissus']\n",
      "Dahlia: []\n",
      "Euphorbia: ['Spurge']\n",
      "Gladiolus: []\n",
      "Gloriosa: ['glory lily', 'flame lily']\n",
      "Golden rod: ['Solidago']\n",
      "Gypsophila: ['baby’s breath']\n",
      "Heather: ['Calluna vulgaris']\n",
      "Hyacinth: []\n",
      "Hydrangea: []\n",
      "Iris: ['flag', 'snake lily']\n",
      "Lavender: ['Lavandula']\n",
      "Peony: ['Paeonia lactiflora']\n",
      "Physalis alkekengi: ['winter cherry', 'chinese lantern']\n",
      "Poppy: ['Papaver']\n",
      "Ranunculus: ['Persian buttercup']\n",
      "Scilla: ['Squill']\n",
      "September flower: ['aster', 'Michelmas daisy']\n",
      "Sweet William: ['Dianthus barbatus']\n",
      "Tagetes: ['African Marigold']\n",
      "Tanacetum: ['Tansy']\n",
      "Tulip: ['Tulipa']\n",
      "Tansy: ['tancetum vulgare', 'Senicio', 'golden ragwort']\n",
      "Cycad: ['Cycas revolute', 'Sago palm', 'Zamia', 'Fern palm']\n",
      "Agave: ['Century plant']\n",
      "Alocasia: ['Dwarf taro']\n",
      "Aloe vera: ['Liliaceae family']\n",
      "Ant plant: ['Hydnophytum papuanum', 'Maze plant']\n",
      "Arrow head vine: ['African evergreen']\n",
      "Asparagus fern: ['feathery asparagus']\n",
      "Bird of paradise: ['Strelitzia reginae/nicolai', 'Crane flower']\n",
      "Begonia: []\n",
      "Brunfelsia pauciflora: []\n",
      "Caladium: []\n",
      "Calla lily: ['Zantedeschia', 'arum lily', 'trumpet lily']\n",
      "Castanospermum: ['moreton bay chestnut']\n",
      "Cheese plant: ['Monstera', 'Indian ivy']\n",
      "Chinese evergreen: ['Aglaonema']\n",
      "Clusia: ['autograph tree']\n",
      "Coleus: ['Solenostemon', 'Indian borage', 'stinging thyme']\n",
      "Cyclamen: []\n",
      "Dracaena: ['Corn plant', 'Dragon tree', 'lucky bamboo']\n",
      "Dumb cane: ['Dieffenbachia']\n",
      "English ivy: ['Hedera Helix', 'common ivy']\n",
      "Ficus benjamina: ['Benjamin tree', 'java fig', 'java tree', 'smallleaved rubber plant', 'tropic laurel', 'Indian rubber plant', 'weeping fig']\n",
      "Fiddle leaf fig: ['Ficus lyrata', 'Banjo fig']\n",
      "Fishtail palm: ['Caryota mitis']\n",
      "Gladioli bulb: ['sword lily']\n",
      "Homalomena rubescens: ['Red shield plant', 'Queen of hearts']\n",
      "Hyacinths bulb: []\n",
      "Iron Cross begonia: ['Begonia masoniana']\n",
      "Jade plant: ['Crassula ovata', 'money plant']\n",
      "Kalanchoe: ['Mother of thousands', 'panda plant', 'flaming Katy']\n",
      "Peace lily: ['Spathiphyllum wallisii', 'White sails']\n",
      "Pencil cactus: ['Cactus euphorbia tirucalli', 'Cactus spurge']\n",
      "Philodendron: ['scandens', 'Heart leaf', 'Sweetheart plant', 'Araceae', 'Monstera']\n",
      "Poinsettia: ['euphorbia', 'Christmas flower']\n",
      "Polyscias fabian: ['Dinner plate aralia', 'Ployscias aralia']\n",
      "Pothos: ['Scindapsus', 'Devil’s Ivy', 'Taro vine', 'Ivy arum']\n",
      "Rubber plant: ['Ficus', 'Benjamin tree', 'weeping fig']\n",
      "Schefflera: ['Umbrella tree', 'octopus tree']\n",
      "Snake plant: ['Sanseviera', 'Mother in law’s tongue', 'Viper’s bowstring hemp']\n",
      "Tradescantia: ['Wandering Jew plant', 'Speedy Henry']\n",
      "Yucca: ['Asparagaceae family', 'Agavoideae']\n",
      "Zamioculcas zamiifolia: ['ZZ plant', 'Zanzibar gem', 'Fern arum']\n"
     ]
    }
   ],
   "execution_count": 6
  },
  {
   "metadata": {
    "ExecuteTime": {
     "end_time": "2024-05-24T18:22:33.951549Z",
     "start_time": "2024-05-24T18:22:33.947733Z"
    }
   },
   "cell_type": "code",
   "source": [
    "# Count total number of plants\n",
    "total = 0\n",
    "for key, value in dict_plants_not_safe_for_cats.items():\n",
    "    total += 1 + len(value)\n",
    "total"
   ],
   "id": "58db6f40d9f591f3",
   "outputs": [
    {
     "data": {
      "text/plain": [
       "245"
      ]
     },
     "execution_count": 5,
     "metadata": {},
     "output_type": "execute_result"
    }
   ],
   "execution_count": 5
  },
  {
   "metadata": {},
   "cell_type": "markdown",
   "source": [
    "## Image scraping\n",
    "Now that we have a dictionary of plants that are not safe for cats and their aliases, we can start getting some data!"
   ],
   "id": "626174fd00a563c4"
  },
  {
   "metadata": {
    "ExecuteTime": {
     "end_time": "2024-05-24T16:16:09.858592Z",
     "start_time": "2024-05-24T16:14:26.651328Z"
    }
   },
   "cell_type": "code",
   "source": [
    "# Bing images\n",
    "from bing_image_downloader import downloader\n",
    "from tqdm import tqdm\n",
    "\n",
    "# Download images for each plant\n",
    "for plant_name, aliases in tqdm(dict_plants_not_safe_for_cats.items()):\n",
    "    for plant in [plant_name] + aliases:\n",
    "        downloader.download(\n",
    "            plant,\n",
    "            limit=3,\n",
    "            output_dir=data_path / \"bing_images\" / plant_name,\n",
    "            adult_filter_off=False,\n",
    "            force_replace=False,\n",
    "            timeout=60,\n",
    "            verbose=True\n",
    "        )"
   ],
   "id": "2f24633460b0aa47",
   "outputs": [
    {
     "name": "stderr",
     "output_type": "stream",
     "text": [
      "  0%|          | 0/96 [00:00<?, ?it/s]"
     ]
    },
    {
     "name": "stdout",
     "output_type": "stream",
     "text": [
      "[%] Downloading Images to /home/kaka/repo/plants-toxic-for-cats/notebooks/../data/bing_images/Asiatic lily\n",
      "\n",
      "\n",
      "[!!]Indexing page: 1\n",
      "\n",
      "[%] Indexed 3 Images on Page 1.\n",
      "\n",
      "===============================================\n",
      "\n",
      "[%] Downloading Image #1 from https://trulyexperiences.com/blog/wp-content/uploads/2020/12/asiatic_lily_flower-2048x1638.jpg\n",
      "[%] File Downloaded !\n",
      "\n",
      "[%] Downloading Image #2 from http://www.whatgrowsthere.com/grow/wp-content/uploads/2016/07/Lilium-2.jpg\n",
      "[%] File Downloaded !\n",
      "\n",
      "[%] Downloading Image #3 from https://www.whiteflowerfarm.com/mas_assets/cache/image/5/1/a/e/20910.Jpg\n",
      "[%] File Downloaded !\n",
      "\n",
      "\n",
      "\n",
      "[%] Done. Downloaded 3 images.\n",
      "[%] Downloading Images to /home/kaka/repo/plants-toxic-for-cats/notebooks/../data/bing_images/Asiatic lily\n",
      "\n",
      "\n",
      "[!!]Indexing page: 1\n",
      "\n",
      "[%] Indexed 3 Images on Page 1.\n",
      "\n",
      "===============================================\n",
      "\n",
      "[%] Downloading Image #1 from https://static.wixstatic.com/media/6a8e04_d8a542de1d354478b331155a55ae6087~mv2.jpe/v1/fill/w_3648,h_2432,al_c,q_90/Asiatic_Lilium.jpe\n",
      "[%] File Downloaded !\n",
      "\n",
      "[%] Downloading Image #2 from https://live.staticflickr.com/7579/15663171044_52ab62a885_b.jpg\n"
     ]
    },
    {
     "name": "stderr",
     "output_type": "stream",
     "text": [
      "  1%|          | 1/96 [00:03<06:00,  3.79s/it]"
     ]
    },
    {
     "name": "stdout",
     "output_type": "stream",
     "text": [
      "[%] File Downloaded !\n",
      "\n",
      "[%] Downloading Image #3 from https://live.staticflickr.com/7496/15665723193_432c2d77fe_b.jpg\n",
      "[%] File Downloaded !\n",
      "\n",
      "\n",
      "\n",
      "[%] Done. Downloaded 3 images.\n",
      "[%] Downloading Images to /home/kaka/repo/plants-toxic-for-cats/notebooks/../data/bing_images/Convallaria\n",
      "\n",
      "\n",
      "[!!]Indexing page: 1\n",
      "\n",
      "[%] Indexed 3 Images on Page 1.\n",
      "\n",
      "===============================================\n",
      "\n",
      "[%] Downloading Image #1 from https://img.crocdn.co.uk/images/products2/pl/20/00/01/80/pl2000018093.jpg?width=940&amp;height=940\n",
      "[%] File Downloaded !\n",
      "\n",
      "[%] Downloading Image #2 from https://i.etsystatic.com/27541807/r/il/5eb03b/2911654658/il_1588xN.2911654658_2c7i.jpg\n",
      "[%] File Downloaded !\n",
      "\n",
      "[%] Downloading Image #3 from https://cdn11.bigcommerce.com/s-1b9100svju/images/stencil/2560w/products/1969/1368/DETA3-384__54459.1624568575.jpg?c=1\n",
      "[%] File Downloaded !\n",
      "\n",
      "\n",
      "\n",
      "[%] Done. Downloaded 3 images.\n",
      "[%] Downloading Images to /home/kaka/repo/plants-toxic-for-cats/notebooks/../data/bing_images/Convallaria\n",
      "\n",
      "\n",
      "[!!]Indexing page: 1\n",
      "\n",
      "[%] Indexed 3 Images on Page 1.\n",
      "\n",
      "===============================================\n",
      "\n",
      "[%] Downloading Image #1 from http://blog.longfield-gardens.com/wp-content/uploads/2017/04/lily-of-the-valley-close-up-longfield-gardens.jpg\n",
      "[%] File Downloaded !\n",
      "\n",
      "[%] Downloading Image #2 from https://upload.wikimedia.org/wikipedia/commons/1/1a/Convallaria_majalis_0002.JPG\n",
      "[%] File Downloaded !\n",
      "\n",
      "[%] Downloading Image #3 from http://weknowyourdreams.com/images/lily-of-the-valley/lily-of-the-valley-06.jpg\n",
      "[!] Issue getting: http://weknowyourdreams.com/images/lily-of-the-valley/lily-of-the-valley-06.jpg\n",
      "[!] Error:: <urlopen error [SSL: CERTIFICATE_VERIFY_FAILED] certificate verify failed: unable to get local issuer certificate (_ssl.c:1000)>\n",
      "\n",
      "\n",
      "[!!]Indexing page: 2\n",
      "\n",
      "[%] Indexed 35 Images on Page 2.\n",
      "\n",
      "===============================================\n",
      "\n",
      "[%] Downloading Image #3 from https://cdn.shopify.com/s/files/1/1419/7120/products/Lily_of_the_Valley_Convallaria.SHUT.jpg?v=1516387219\n"
     ]
    },
    {
     "name": "stderr",
     "output_type": "stream",
     "text": [
      "  2%|▏         | 2/96 [00:09<07:19,  4.68s/it]"
     ]
    },
    {
     "name": "stdout",
     "output_type": "stream",
     "text": [
      "[%] File Downloaded !\n",
      "\n",
      "\n",
      "\n",
      "[%] Done. Downloaded 3 images.\n",
      "[%] Downloading Images to /home/kaka/repo/plants-toxic-for-cats/notebooks/../data/bing_images/Easter lily\n",
      "\n",
      "\n",
      "[!!]Indexing page: 1\n",
      "\n",
      "[%] Indexed 3 Images on Page 1.\n",
      "\n",
      "===============================================\n",
      "\n",
      "[%] Downloading Image #1 from https://upload.wikimedia.org/wikipedia/commons/d/dd/Lilium_longiflorum_(Easter_Lily).JPG\n",
      "[%] File Downloaded !\n",
      "\n",
      "[%] Downloading Image #2 from https://www.thespruce.com/thmb/OYZsYHWeY53t4jt33bYY6MKHifk=/5000x3300/filters:fill(auto,1)/Easter-lily-bloom-big-56a586f43df78cf77288b21c.jpg\n",
      "[%] File Downloaded !\n",
      "\n",
      "[%] Downloading Image #3 from https://2.bp.blogspot.com/-_ygnUpGfk4U/VvvLsvMLLAI/AAAAAAAAPYA/ObV4FZiB5loWxGaQZiIiYMzRhY4xbHaaQ/s1600/Easter%2BLily%2B1.jpg\n",
      "[%] File Downloaded !\n",
      "\n",
      "\n",
      "\n",
      "[%] Done. Downloaded 3 images.\n",
      "[%] Downloading Images to /home/kaka/repo/plants-toxic-for-cats/notebooks/../data/bing_images/Easter lily\n",
      "\n",
      "\n",
      "[!!]Indexing page: 1\n",
      "\n",
      "[%] Indexed 3 Images on Page 1.\n",
      "\n",
      "===============================================\n",
      "\n",
      "[%] Downloading Image #1 from https://worldoffloweringplants.com/wp-content/uploads/2017/11/Lilium-longiflorum-Easter-Lily3.jpg\n",
      "[%] File Downloaded !\n",
      "\n",
      "[%] Downloading Image #2 from https://upload.wikimedia.org/wikipedia/commons/thumb/d/dd/Lilium_longiflorum_(Easter_Lily).JPG/1200px-Lilium_longiflorum_(Easter_Lily).JPG\n"
     ]
    },
    {
     "name": "stderr",
     "output_type": "stream",
     "text": [
      "  3%|▎         | 3/96 [00:11<05:27,  3.52s/it]"
     ]
    },
    {
     "name": "stdout",
     "output_type": "stream",
     "text": [
      "[%] File Downloaded !\n",
      "\n",
      "[%] Downloading Image #3 from https://www.picturethisai.com/wiki-image/1080/DB4E9D5F6EF247BC8454B884EA28D9D1.jpeg\n",
      "[%] File Downloaded !\n",
      "\n",
      "\n",
      "\n",
      "[%] Done. Downloaded 3 images.\n",
      "[%] Downloading Images to /home/kaka/repo/plants-toxic-for-cats/notebooks/../data/bing_images/Japanese showy lily\n",
      "\n",
      "\n",
      "[!!]Indexing page: 1\n",
      "\n",
      "[%] Indexed 3 Images on Page 1.\n",
      "\n",
      "===============================================\n",
      "\n",
      "[%] Downloading Image #1 from https://apps.rhs.org.uk/plantselectorimages/detail/RHS_WSYD0017871_7586.JPG\n",
      "[%] File Downloaded !\n",
      "\n",
      "[%] Downloading Image #2 from https://trulyexperiences.com/blog/wp-content/uploads/2020/12/asiatic_lily_flower-2048x1638.jpg\n",
      "[%] File Downloaded !\n",
      "\n",
      "[%] Downloading Image #3 from https://images.fineartamerica.com/images-medium-large-5/showy-stargazer-lily-elisabeth-ann.jpg\n",
      "[%] File Downloaded !\n",
      "\n",
      "\n",
      "\n",
      "[%] Done. Downloaded 3 images.\n",
      "[%] Downloading Images to /home/kaka/repo/plants-toxic-for-cats/notebooks/../data/bing_images/Japanese showy lily\n",
      "\n",
      "\n",
      "[!!]Indexing page: 1\n",
      "\n",
      "[%] Indexed 3 Images on Page 1.\n",
      "\n",
      "===============================================\n",
      "\n",
      "[%] Downloading Image #1 from https://www.garden-en.com/images_forum/gallery/10667/37341-p3420748.jpg\n",
      "[%] File Downloaded !\n",
      "\n",
      "[%] Downloading Image #2 from https://www.garden-en.com/images_forum/gallery/10667/37349-p3420885.jpg\n",
      "[%] File Downloaded !\n",
      "\n",
      "[%] Downloading Image #3 from https://www.siteone.com/medias/sys_master/root/ha1/h6f/8915468058654/459663-1-1200Wx1200H.jpg\n",
      "[!] Issue getting: https://www.siteone.com/medias/sys_master/root/ha1/h6f/8915468058654/459663-1-1200Wx1200H.jpg\n",
      "[!] Error:: The read operation timed out\n",
      "\n",
      "\n",
      "[!!]Indexing page: 2\n",
      "\n",
      "[%] Indexed 35 Images on Page 2.\n",
      "\n",
      "===============================================\n",
      "\n",
      "[%] Downloading Image #3 from https://www.garden-en.com/images_forum/gallery/10667/27069-p2270266.jpg\n"
     ]
    },
    {
     "name": "stderr",
     "output_type": "stream",
     "text": [
      "  4%|▍         | 4/96 [01:15<41:53, 27.32s/it]"
     ]
    },
    {
     "name": "stdout",
     "output_type": "stream",
     "text": [
      "[%] File Downloaded !\n",
      "\n",
      "\n",
      "\n",
      "[%] Done. Downloaded 3 images.\n",
      "[%] Downloading Images to /home/kaka/repo/plants-toxic-for-cats/notebooks/../data/bing_images/Madonna lily\n",
      "\n",
      "\n",
      "[!!]Indexing page: 1\n",
      "\n",
      "[%] Indexed 3 Images on Page 1.\n",
      "\n",
      "===============================================\n",
      "\n",
      "[%] Downloading Image #1 from https://www.gardeningknowhow.com/wp-content/uploads/2020/10/madonna-lily.jpg\n",
      "[!] Issue getting: https://www.gardeningknowhow.com/wp-content/uploads/2020/10/madonna-lily.jpg\n",
      "[!] Error:: HTTP Error 500: Internal Server Error\n",
      "[%] Downloading Image #1 from http://www.hartsnursery.co.uk/images/D/N1903258_80.jpg\n",
      "[%] File Downloaded !\n",
      "\n",
      "[%] Downloading Image #2 from https://trulyexperiences.com/blog/wp-content/uploads/2020/12/AdobeStock_288897634-scaled.jpeg\n",
      "[%] File Downloaded !\n",
      "\n",
      "\n",
      "\n",
      "[!!]Indexing page: 2\n",
      "\n",
      "[%] Indexed 35 Images on Page 2.\n",
      "\n",
      "===============================================\n",
      "\n",
      "[%] Downloading Image #3 from https://www.thespruce.com/thmb/YR9tUaKejBprtPMfKrcMezSIhWY=/2250x0/filters:no_upscale():max_bytes(150000):strip_icc()/growing-madonna-lily-lilium-candidum-5100935-02-ca918293c7b34122928dd927c78b4b65.JPG\n",
      "[%] File Downloaded !\n",
      "\n",
      "\n",
      "\n",
      "[%] Done. Downloaded 3 images.\n",
      "[%] Downloading Images to /home/kaka/repo/plants-toxic-for-cats/notebooks/../data/bing_images/Madonna lily\n",
      "\n",
      "\n",
      "[!!]Indexing page: 1\n",
      "\n",
      "[%] Indexed 3 Images on Page 1.\n",
      "\n",
      "===============================================\n",
      "\n",
      "[%] Downloading Image #1 from https://s3.eu-west-2.amazonaws.com/jparkers/1000/1000568.jpg\n",
      "[%] File Downloaded !\n",
      "\n",
      "[%] Downloading Image #2 from https://cdn.shopify.com/s/files/1/1419/7120/products/sqLilium_Candidum.SHUT_2.jpg?v=1595952493\n",
      "[%] File Downloaded !\n",
      "\n",
      "[%] Downloading Image #3 from https://cdn.shopify.com/s/files/1/1419/7120/products/sqLilium_Candidum.SHUT_4.jpg?v=1595952508\n"
     ]
    },
    {
     "name": "stderr",
     "output_type": "stream",
     "text": [
      "  5%|▌         | 5/96 [01:31<35:26, 23.36s/it]"
     ]
    },
    {
     "name": "stdout",
     "output_type": "stream",
     "text": [
      "[%] File Downloaded !\n",
      "\n",
      "\n",
      "\n",
      "[%] Done. Downloaded 3 images.\n",
      "[%] Downloading Images to /home/kaka/repo/plants-toxic-for-cats/notebooks/../data/bing_images/Roselily\n",
      "\n",
      "\n",
      "[!!]Indexing page: 1\n",
      "\n",
      "[%] Indexed 3 Images on Page 1.\n",
      "\n",
      "===============================================\n",
      "\n",
      "[%] Downloading Image #1 from https://cdn.shopify.com/s/files/1/1419/7120/products/Roselily_Isabella.FH.jpg?v=1571439616\n",
      "[%] File Downloaded !\n",
      "\n",
      "[%] Downloading Image #2 from https://3.bp.blogspot.com/-Uggf6iK0NH8/VdTtIv9C__I/AAAAAAAAFeg/PBDIdWGPaU4/s1600/roselily%2Bbelonica%2B.JPG\n",
      "[%] File Downloaded !\n",
      "\n",
      "[%] Downloading Image #3 from https://s3.amazonaws.com/cdn.brecks.com/images/800/62828.jpg\n"
     ]
    },
    {
     "name": "stderr",
     "output_type": "stream",
     "text": [
      "  6%|▋         | 6/96 [01:33<24:11, 16.13s/it]"
     ]
    },
    {
     "name": "stdout",
     "output_type": "stream",
     "text": [
      "[%] File Downloaded !\n",
      "\n",
      "\n",
      "\n",
      "[%] Done. Downloaded 3 images.\n",
      "[%] Downloading Images to /home/kaka/repo/plants-toxic-for-cats/notebooks/../data/bing_images/Royal lily\n",
      "\n",
      "\n",
      "[!!]Indexing page: 1\n",
      "\n",
      "[%] Indexed 3 Images on Page 1.\n",
      "\n",
      "===============================================\n",
      "\n",
      "[%] Downloading Image #1 from https://3.bp.blogspot.com/-aifkMvyJ3Bc/Vc5cpDoyVwI/AAAAAAAAFcw/Y2KzpoOgcio/s1600/white%2Broyal%2Blily.JPG\n",
      "[%] File Downloaded !\n",
      "\n",
      "[%] Downloading Image #2 from https://www.gardenmandy.com/wp-content/uploads/2020/09/Royal-Lily-Flower.jpg\n",
      "[!] Issue getting: https://www.gardenmandy.com/wp-content/uploads/2020/09/Royal-Lily-Flower.jpg\n",
      "[!] Error:: Remote end closed connection without response\n",
      "[%] Downloading Image #2 from https://1.bp.blogspot.com/-_fECwgtZN0g/WBpJcXa1N-I/AAAAAAAAIuU/2iO6lKMLwpIMuUvRJLvNqsjJ4kiCwTpGACLcB/s1600/Royal%2BSunset.jpg\n",
      "[%] File Downloaded !\n",
      "\n",
      "\n",
      "\n",
      "[!!]Indexing page: 2\n",
      "\n",
      "[%] Indexed 35 Images on Page 2.\n",
      "\n",
      "===============================================\n",
      "\n",
      "[%] Downloading Image #3 from https://www.gardenmandy.com/wp-content/uploads/2020/09/Royal-Lily-Photo.jpg\n",
      "[!] Issue getting: https://www.gardenmandy.com/wp-content/uploads/2020/09/Royal-Lily-Photo.jpg\n",
      "[!] Error:: Remote end closed connection without response\n",
      "[%] Downloading Image #3 from https://cdn11.bigcommerce.com/s-1b9100svju/images/stencil/1920w/products/1759/1750/DETA3-710__57681.1662479979.jpg?c=1\n",
      "[%] File Downloaded !\n",
      "\n",
      "\n",
      "\n",
      "[%] Done. Downloaded 3 images.\n",
      "[%] Downloading Images to /home/kaka/repo/plants-toxic-for-cats/notebooks/../data/bing_images/Royal lily\n",
      "\n",
      "\n",
      "[!!]Indexing page: 1\n",
      "\n",
      "[%] Indexed 3 Images on Page 1.\n",
      "\n",
      "===============================================\n",
      "\n",
      "[%] Downloading Image #1 from https://www.hartsnursery.co.uk/images/D/82 66 46_120.jpg\n",
      "[!] Issue getting: https://www.hartsnursery.co.uk/images/D/82 66 46_120.jpg\n",
      "[!] Error:: URL can't contain control characters. '/images/D/82 66 46_120.jpg' (found at least ' ')\n",
      "[%] Downloading Image #1 from https://img.crocdn.co.uk/images/products2/pl/10/00/00/03/pl1000000399.jpg?width=940&amp;height=940\n",
      "[%] File Downloaded !\n",
      "\n",
      "[%] Downloading Image #2 from https://www.hartsnursery.co.uk/images/D/Regale new.jpg\n",
      "[!] Issue getting: https://www.hartsnursery.co.uk/images/D/Regale new.jpg\n",
      "[!] Error:: URL can't contain control characters. '/images/D/Regale new.jpg' (found at least ' ')\n",
      "\n",
      "\n",
      "[!!]Indexing page: 2\n",
      "\n",
      "[%] Indexed 35 Images on Page 2.\n",
      "\n",
      "===============================================\n",
      "\n",
      "[%] Downloading Image #2 from https://img.crocdn.co.uk/images/products2/pl/20/00/00/54/pl2000005436.jpg?width=940&amp;height=940\n",
      "[%] File Downloaded !\n",
      "\n",
      "[%] Downloading Image #3 from https://img.crocdn.co.uk/images/products2/pl/10/00/00/03/pl1000000399_card3_lg.jpg\n"
     ]
    },
    {
     "name": "stderr",
     "output_type": "stream",
     "text": [
      "  7%|▋         | 7/96 [01:41<19:50, 13.37s/it]"
     ]
    },
    {
     "name": "stdout",
     "output_type": "stream",
     "text": [
      "[%] File Downloaded !\n",
      "\n",
      "\n",
      "\n",
      "[%] Done. Downloaded 3 images.\n",
      "[%] Downloading Images to /home/kaka/repo/plants-toxic-for-cats/notebooks/../data/bing_images/Rubrum lily\n",
      "\n",
      "\n",
      "[!!]Indexing page: 1\n",
      "\n",
      "[%] Indexed 3 Images on Page 1.\n",
      "\n",
      "===============================================\n",
      "\n",
      "[%] Downloading Image #1 from https://i.pinimg.com/originals/dd/9b/53/dd9b531050a0a2ce924812b80ec63479.jpg\n",
      "[%] File Downloaded !\n",
      "\n",
      "[%] Downloading Image #2 from https://worldoffloweringplants.com/wp-content/uploads/2017/12/Lilium-speciosum-var.-rubrum-Japanese-Lily3.jpg\n",
      "[%] File Downloaded !\n",
      "\n",
      "[%] Downloading Image #3 from https://worldoffloweringplants.com/wp-content/uploads/2017/12/Lilium-speciosum-var.-rubrum-Japanese-Lily1.jpg\n"
     ]
    },
    {
     "name": "stderr",
     "output_type": "stream",
     "text": [
      "  7%|▋         | 7/96 [01:42<21:48, 14.70s/it]\n"
     ]
    },
    {
     "ename": "KeyboardInterrupt",
     "evalue": "",
     "output_type": "error",
     "traceback": [
      "\u001B[0;31m---------------------------------------------------------------------------\u001B[0m",
      "\u001B[0;31mKeyboardInterrupt\u001B[0m                         Traceback (most recent call last)",
      "Cell \u001B[0;32mIn[7], line 8\u001B[0m\n\u001B[1;32m      6\u001B[0m \u001B[38;5;28;01mfor\u001B[39;00m plant_name, aliases \u001B[38;5;129;01min\u001B[39;00m tqdm(dict_plants_not_safe_for_cats\u001B[38;5;241m.\u001B[39mitems()):\n\u001B[1;32m      7\u001B[0m     \u001B[38;5;28;01mfor\u001B[39;00m plant \u001B[38;5;129;01min\u001B[39;00m [plant_name] \u001B[38;5;241m+\u001B[39m aliases:\n\u001B[0;32m----> 8\u001B[0m         \u001B[43mdownloader\u001B[49m\u001B[38;5;241;43m.\u001B[39;49m\u001B[43mdownload\u001B[49m\u001B[43m(\u001B[49m\n\u001B[1;32m      9\u001B[0m \u001B[43m            \u001B[49m\u001B[43mplant\u001B[49m\u001B[43m,\u001B[49m\n\u001B[1;32m     10\u001B[0m \u001B[43m            \u001B[49m\u001B[43mlimit\u001B[49m\u001B[38;5;241;43m=\u001B[39;49m\u001B[38;5;241;43m3\u001B[39;49m\u001B[43m,\u001B[49m\n\u001B[1;32m     11\u001B[0m \u001B[43m            \u001B[49m\u001B[43moutput_dir\u001B[49m\u001B[38;5;241;43m=\u001B[39;49m\u001B[43mdata_path\u001B[49m\u001B[43m \u001B[49m\u001B[38;5;241;43m/\u001B[39;49m\u001B[43m \u001B[49m\u001B[38;5;124;43m\"\u001B[39;49m\u001B[38;5;124;43mbing_images\u001B[39;49m\u001B[38;5;124;43m\"\u001B[39;49m\u001B[43m \u001B[49m\u001B[38;5;241;43m/\u001B[39;49m\u001B[43m \u001B[49m\u001B[43mplant_name\u001B[49m\u001B[43m,\u001B[49m\n\u001B[1;32m     12\u001B[0m \u001B[43m            \u001B[49m\u001B[43madult_filter_off\u001B[49m\u001B[38;5;241;43m=\u001B[39;49m\u001B[38;5;28;43;01mFalse\u001B[39;49;00m\u001B[43m,\u001B[49m\n\u001B[1;32m     13\u001B[0m \u001B[43m            \u001B[49m\u001B[43mforce_replace\u001B[49m\u001B[38;5;241;43m=\u001B[39;49m\u001B[38;5;28;43;01mFalse\u001B[39;49;00m\u001B[43m,\u001B[49m\n\u001B[1;32m     14\u001B[0m \u001B[43m            \u001B[49m\u001B[43mtimeout\u001B[49m\u001B[38;5;241;43m=\u001B[39;49m\u001B[38;5;241;43m60\u001B[39;49m\u001B[43m,\u001B[49m\n\u001B[1;32m     15\u001B[0m \u001B[43m            \u001B[49m\u001B[43mverbose\u001B[49m\u001B[38;5;241;43m=\u001B[39;49m\u001B[38;5;28;43;01mTrue\u001B[39;49;00m\n\u001B[1;32m     16\u001B[0m \u001B[43m        \u001B[49m\u001B[43m)\u001B[49m\n",
      "File \u001B[0;32m~/repo/plants-toxic-for-cats/.venv/lib/python3.12/site-packages/bing_image_downloader/downloader.py:38\u001B[0m, in \u001B[0;36mdownload\u001B[0;34m(query, limit, output_dir, adult_filter_off, force_replace, timeout, filter, verbose)\u001B[0m\n\u001B[1;32m     36\u001B[0m \u001B[38;5;28mprint\u001B[39m(\u001B[38;5;124m\"\u001B[39m\u001B[38;5;124m[\u001B[39m\u001B[38;5;124m%\u001B[39m\u001B[38;5;124m] Downloading Images to \u001B[39m\u001B[38;5;132;01m{}\u001B[39;00m\u001B[38;5;124m\"\u001B[39m\u001B[38;5;241m.\u001B[39mformat(\u001B[38;5;28mstr\u001B[39m(image_dir\u001B[38;5;241m.\u001B[39mabsolute())))\n\u001B[1;32m     37\u001B[0m bing \u001B[38;5;241m=\u001B[39m Bing(query, limit, image_dir, adult, timeout, \u001B[38;5;28mfilter\u001B[39m, verbose)\n\u001B[0;32m---> 38\u001B[0m \u001B[43mbing\u001B[49m\u001B[38;5;241;43m.\u001B[39;49m\u001B[43mrun\u001B[49m\u001B[43m(\u001B[49m\u001B[43m)\u001B[49m\n",
      "File \u001B[0;32m~/repo/plants-toxic-for-cats/.venv/lib/python3.12/site-packages/bing_image_downloader/bing.py:112\u001B[0m, in \u001B[0;36mBing.run\u001B[0;34m(self)\u001B[0m\n\u001B[1;32m    110\u001B[0m         \u001B[38;5;28;01mif\u001B[39;00m \u001B[38;5;28mself\u001B[39m\u001B[38;5;241m.\u001B[39mdownload_count \u001B[38;5;241m<\u001B[39m \u001B[38;5;28mself\u001B[39m\u001B[38;5;241m.\u001B[39mlimit \u001B[38;5;129;01mand\u001B[39;00m link \u001B[38;5;129;01mnot\u001B[39;00m \u001B[38;5;129;01min\u001B[39;00m \u001B[38;5;28mself\u001B[39m\u001B[38;5;241m.\u001B[39mseen:\n\u001B[1;32m    111\u001B[0m             \u001B[38;5;28mself\u001B[39m\u001B[38;5;241m.\u001B[39mseen\u001B[38;5;241m.\u001B[39madd(link)\n\u001B[0;32m--> 112\u001B[0m             \u001B[38;5;28;43mself\u001B[39;49m\u001B[38;5;241;43m.\u001B[39;49m\u001B[43mdownload_image\u001B[49m\u001B[43m(\u001B[49m\u001B[43mlink\u001B[49m\u001B[43m)\u001B[49m\n\u001B[1;32m    114\u001B[0m     \u001B[38;5;28mself\u001B[39m\u001B[38;5;241m.\u001B[39mpage_counter \u001B[38;5;241m+\u001B[39m\u001B[38;5;241m=\u001B[39m \u001B[38;5;241m1\u001B[39m\n\u001B[1;32m    115\u001B[0m \u001B[38;5;28mprint\u001B[39m(\u001B[38;5;124m\"\u001B[39m\u001B[38;5;130;01m\\n\u001B[39;00m\u001B[38;5;130;01m\\n\u001B[39;00m\u001B[38;5;124m[\u001B[39m\u001B[38;5;124m%\u001B[39m\u001B[38;5;124m] Done. Downloaded \u001B[39m\u001B[38;5;132;01m{}\u001B[39;00m\u001B[38;5;124m images.\u001B[39m\u001B[38;5;124m\"\u001B[39m\u001B[38;5;241m.\u001B[39mformat(\u001B[38;5;28mself\u001B[39m\u001B[38;5;241m.\u001B[39mdownload_count))\n",
      "File \u001B[0;32m~/repo/plants-toxic-for-cats/.venv/lib/python3.12/site-packages/bing_image_downloader/bing.py:80\u001B[0m, in \u001B[0;36mBing.download_image\u001B[0;34m(self, link)\u001B[0m\n\u001B[1;32m     76\u001B[0m \u001B[38;5;28;01mif\u001B[39;00m \u001B[38;5;28mself\u001B[39m\u001B[38;5;241m.\u001B[39mverbose:\n\u001B[1;32m     77\u001B[0m     \u001B[38;5;66;03m# Download the image\u001B[39;00m\n\u001B[1;32m     78\u001B[0m     \u001B[38;5;28mprint\u001B[39m(\u001B[38;5;124m\"\u001B[39m\u001B[38;5;124m[\u001B[39m\u001B[38;5;124m%\u001B[39m\u001B[38;5;124m] Downloading Image #\u001B[39m\u001B[38;5;132;01m{}\u001B[39;00m\u001B[38;5;124m from \u001B[39m\u001B[38;5;132;01m{}\u001B[39;00m\u001B[38;5;124m\"\u001B[39m\u001B[38;5;241m.\u001B[39mformat(\u001B[38;5;28mself\u001B[39m\u001B[38;5;241m.\u001B[39mdownload_count, link))\n\u001B[0;32m---> 80\u001B[0m \u001B[38;5;28;43mself\u001B[39;49m\u001B[38;5;241;43m.\u001B[39;49m\u001B[43msave_image\u001B[49m\u001B[43m(\u001B[49m\u001B[43mlink\u001B[49m\u001B[43m,\u001B[49m\u001B[43m \u001B[49m\u001B[38;5;28;43mself\u001B[39;49m\u001B[38;5;241;43m.\u001B[39;49m\u001B[43moutput_dir\u001B[49m\u001B[38;5;241;43m.\u001B[39;49m\u001B[43mjoinpath\u001B[49m\u001B[43m(\u001B[49m\u001B[38;5;124;43mf\u001B[39;49m\u001B[38;5;124;43m\"\u001B[39;49m\u001B[38;5;132;43;01m{\u001B[39;49;00m\u001B[38;5;28;43mself\u001B[39;49m\u001B[38;5;241;43m.\u001B[39;49m\u001B[43mquery\u001B[49m\u001B[38;5;132;43;01m}\u001B[39;49;00m\u001B[38;5;124;43m_\u001B[39;49m\u001B[38;5;132;43;01m{\u001B[39;49;00m\u001B[38;5;28;43mself\u001B[39;49m\u001B[38;5;241;43m.\u001B[39;49m\u001B[43mdownload_count\u001B[49m\u001B[38;5;132;43;01m}\u001B[39;49;00m\u001B[38;5;124;43m.\u001B[39;49m\u001B[38;5;132;43;01m{\u001B[39;49;00m\u001B[43mfile_type\u001B[49m\u001B[38;5;132;43;01m}\u001B[39;49;00m\u001B[38;5;124;43m\"\u001B[39;49m\u001B[43m)\u001B[49m\u001B[43m)\u001B[49m\n\u001B[1;32m     82\u001B[0m \u001B[38;5;28;01mif\u001B[39;00m \u001B[38;5;28mself\u001B[39m\u001B[38;5;241m.\u001B[39mverbose:\n\u001B[1;32m     83\u001B[0m     \u001B[38;5;28mprint\u001B[39m(\u001B[38;5;124m\"\u001B[39m\u001B[38;5;124m[\u001B[39m\u001B[38;5;124m%\u001B[39m\u001B[38;5;124m] File Downloaded !\u001B[39m\u001B[38;5;130;01m\\n\u001B[39;00m\u001B[38;5;124m\"\u001B[39m)\n",
      "File \u001B[0;32m~/repo/plants-toxic-for-cats/.venv/lib/python3.12/site-packages/bing_image_downloader/bing.py:58\u001B[0m, in \u001B[0;36mBing.save_image\u001B[0;34m(self, link, file_path)\u001B[0m\n\u001B[1;32m     56\u001B[0m \u001B[38;5;28;01mdef\u001B[39;00m \u001B[38;5;21msave_image\u001B[39m(\u001B[38;5;28mself\u001B[39m, link, file_path):\n\u001B[1;32m     57\u001B[0m     request \u001B[38;5;241m=\u001B[39m urllib\u001B[38;5;241m.\u001B[39mrequest\u001B[38;5;241m.\u001B[39mRequest(link, \u001B[38;5;28;01mNone\u001B[39;00m, \u001B[38;5;28mself\u001B[39m\u001B[38;5;241m.\u001B[39mheaders)\n\u001B[0;32m---> 58\u001B[0m     image \u001B[38;5;241m=\u001B[39m \u001B[43murllib\u001B[49m\u001B[38;5;241;43m.\u001B[39;49m\u001B[43mrequest\u001B[49m\u001B[38;5;241;43m.\u001B[39;49m\u001B[43murlopen\u001B[49m\u001B[43m(\u001B[49m\u001B[43mrequest\u001B[49m\u001B[43m,\u001B[49m\u001B[43m \u001B[49m\u001B[43mtimeout\u001B[49m\u001B[38;5;241;43m=\u001B[39;49m\u001B[38;5;28;43mself\u001B[39;49m\u001B[38;5;241;43m.\u001B[39;49m\u001B[43mtimeout\u001B[49m\u001B[43m)\u001B[49m\u001B[38;5;241;43m.\u001B[39;49m\u001B[43mread\u001B[49m\u001B[43m(\u001B[49m\u001B[43m)\u001B[49m\n\u001B[1;32m     59\u001B[0m     \u001B[38;5;28;01mif\u001B[39;00m \u001B[38;5;129;01mnot\u001B[39;00m imghdr\u001B[38;5;241m.\u001B[39mwhat(\u001B[38;5;28;01mNone\u001B[39;00m, image):\n\u001B[1;32m     60\u001B[0m         \u001B[38;5;28mprint\u001B[39m(\u001B[38;5;124m'\u001B[39m\u001B[38;5;124m[Error]Invalid image, not saving \u001B[39m\u001B[38;5;132;01m{}\u001B[39;00m\u001B[38;5;130;01m\\n\u001B[39;00m\u001B[38;5;124m'\u001B[39m\u001B[38;5;241m.\u001B[39mformat(link))\n",
      "File \u001B[0;32m/usr/lib/python3.12/http/client.py:495\u001B[0m, in \u001B[0;36mHTTPResponse.read\u001B[0;34m(self, amt)\u001B[0m\n\u001B[1;32m    493\u001B[0m \u001B[38;5;28;01melse\u001B[39;00m:\n\u001B[1;32m    494\u001B[0m     \u001B[38;5;28;01mtry\u001B[39;00m:\n\u001B[0;32m--> 495\u001B[0m         s \u001B[38;5;241m=\u001B[39m \u001B[38;5;28;43mself\u001B[39;49m\u001B[38;5;241;43m.\u001B[39;49m\u001B[43m_safe_read\u001B[49m\u001B[43m(\u001B[49m\u001B[38;5;28;43mself\u001B[39;49m\u001B[38;5;241;43m.\u001B[39;49m\u001B[43mlength\u001B[49m\u001B[43m)\u001B[49m\n\u001B[1;32m    496\u001B[0m     \u001B[38;5;28;01mexcept\u001B[39;00m IncompleteRead:\n\u001B[1;32m    497\u001B[0m         \u001B[38;5;28mself\u001B[39m\u001B[38;5;241m.\u001B[39m_close_conn()\n",
      "File \u001B[0;32m/usr/lib/python3.12/http/client.py:640\u001B[0m, in \u001B[0;36mHTTPResponse._safe_read\u001B[0;34m(self, amt)\u001B[0m\n\u001B[1;32m    633\u001B[0m \u001B[38;5;28;01mdef\u001B[39;00m \u001B[38;5;21m_safe_read\u001B[39m(\u001B[38;5;28mself\u001B[39m, amt):\n\u001B[1;32m    634\u001B[0m \u001B[38;5;250m    \u001B[39m\u001B[38;5;124;03m\"\"\"Read the number of bytes requested.\u001B[39;00m\n\u001B[1;32m    635\u001B[0m \n\u001B[1;32m    636\u001B[0m \u001B[38;5;124;03m    This function should be used when <amt> bytes \"should\" be present for\u001B[39;00m\n\u001B[1;32m    637\u001B[0m \u001B[38;5;124;03m    reading. If the bytes are truly not available (due to EOF), then the\u001B[39;00m\n\u001B[1;32m    638\u001B[0m \u001B[38;5;124;03m    IncompleteRead exception can be used to detect the problem.\u001B[39;00m\n\u001B[1;32m    639\u001B[0m \u001B[38;5;124;03m    \"\"\"\u001B[39;00m\n\u001B[0;32m--> 640\u001B[0m     data \u001B[38;5;241m=\u001B[39m \u001B[38;5;28;43mself\u001B[39;49m\u001B[38;5;241;43m.\u001B[39;49m\u001B[43mfp\u001B[49m\u001B[38;5;241;43m.\u001B[39;49m\u001B[43mread\u001B[49m\u001B[43m(\u001B[49m\u001B[43mamt\u001B[49m\u001B[43m)\u001B[49m\n\u001B[1;32m    641\u001B[0m     \u001B[38;5;28;01mif\u001B[39;00m \u001B[38;5;28mlen\u001B[39m(data) \u001B[38;5;241m<\u001B[39m amt:\n\u001B[1;32m    642\u001B[0m         \u001B[38;5;28;01mraise\u001B[39;00m IncompleteRead(data, amt\u001B[38;5;241m-\u001B[39m\u001B[38;5;28mlen\u001B[39m(data))\n",
      "File \u001B[0;32m/usr/lib/python3.12/socket.py:707\u001B[0m, in \u001B[0;36mSocketIO.readinto\u001B[0;34m(self, b)\u001B[0m\n\u001B[1;32m    705\u001B[0m \u001B[38;5;28;01mwhile\u001B[39;00m \u001B[38;5;28;01mTrue\u001B[39;00m:\n\u001B[1;32m    706\u001B[0m     \u001B[38;5;28;01mtry\u001B[39;00m:\n\u001B[0;32m--> 707\u001B[0m         \u001B[38;5;28;01mreturn\u001B[39;00m \u001B[38;5;28;43mself\u001B[39;49m\u001B[38;5;241;43m.\u001B[39;49m\u001B[43m_sock\u001B[49m\u001B[38;5;241;43m.\u001B[39;49m\u001B[43mrecv_into\u001B[49m\u001B[43m(\u001B[49m\u001B[43mb\u001B[49m\u001B[43m)\u001B[49m\n\u001B[1;32m    708\u001B[0m     \u001B[38;5;28;01mexcept\u001B[39;00m timeout:\n\u001B[1;32m    709\u001B[0m         \u001B[38;5;28mself\u001B[39m\u001B[38;5;241m.\u001B[39m_timeout_occurred \u001B[38;5;241m=\u001B[39m \u001B[38;5;28;01mTrue\u001B[39;00m\n",
      "File \u001B[0;32m/usr/lib/python3.12/ssl.py:1252\u001B[0m, in \u001B[0;36mSSLSocket.recv_into\u001B[0;34m(self, buffer, nbytes, flags)\u001B[0m\n\u001B[1;32m   1248\u001B[0m     \u001B[38;5;28;01mif\u001B[39;00m flags \u001B[38;5;241m!=\u001B[39m \u001B[38;5;241m0\u001B[39m:\n\u001B[1;32m   1249\u001B[0m         \u001B[38;5;28;01mraise\u001B[39;00m \u001B[38;5;167;01mValueError\u001B[39;00m(\n\u001B[1;32m   1250\u001B[0m           \u001B[38;5;124m\"\u001B[39m\u001B[38;5;124mnon-zero flags not allowed in calls to recv_into() on \u001B[39m\u001B[38;5;132;01m%s\u001B[39;00m\u001B[38;5;124m\"\u001B[39m \u001B[38;5;241m%\u001B[39m\n\u001B[1;32m   1251\u001B[0m           \u001B[38;5;28mself\u001B[39m\u001B[38;5;241m.\u001B[39m\u001B[38;5;18m__class__\u001B[39m)\n\u001B[0;32m-> 1252\u001B[0m     \u001B[38;5;28;01mreturn\u001B[39;00m \u001B[38;5;28;43mself\u001B[39;49m\u001B[38;5;241;43m.\u001B[39;49m\u001B[43mread\u001B[49m\u001B[43m(\u001B[49m\u001B[43mnbytes\u001B[49m\u001B[43m,\u001B[49m\u001B[43m \u001B[49m\u001B[43mbuffer\u001B[49m\u001B[43m)\u001B[49m\n\u001B[1;32m   1253\u001B[0m \u001B[38;5;28;01melse\u001B[39;00m:\n\u001B[1;32m   1254\u001B[0m     \u001B[38;5;28;01mreturn\u001B[39;00m \u001B[38;5;28msuper\u001B[39m()\u001B[38;5;241m.\u001B[39mrecv_into(buffer, nbytes, flags)\n",
      "File \u001B[0;32m/usr/lib/python3.12/ssl.py:1104\u001B[0m, in \u001B[0;36mSSLSocket.read\u001B[0;34m(self, len, buffer)\u001B[0m\n\u001B[1;32m   1102\u001B[0m \u001B[38;5;28;01mtry\u001B[39;00m:\n\u001B[1;32m   1103\u001B[0m     \u001B[38;5;28;01mif\u001B[39;00m buffer \u001B[38;5;129;01mis\u001B[39;00m \u001B[38;5;129;01mnot\u001B[39;00m \u001B[38;5;28;01mNone\u001B[39;00m:\n\u001B[0;32m-> 1104\u001B[0m         \u001B[38;5;28;01mreturn\u001B[39;00m \u001B[38;5;28;43mself\u001B[39;49m\u001B[38;5;241;43m.\u001B[39;49m\u001B[43m_sslobj\u001B[49m\u001B[38;5;241;43m.\u001B[39;49m\u001B[43mread\u001B[49m\u001B[43m(\u001B[49m\u001B[38;5;28;43mlen\u001B[39;49m\u001B[43m,\u001B[49m\u001B[43m \u001B[49m\u001B[43mbuffer\u001B[49m\u001B[43m)\u001B[49m\n\u001B[1;32m   1105\u001B[0m     \u001B[38;5;28;01melse\u001B[39;00m:\n\u001B[1;32m   1106\u001B[0m         \u001B[38;5;28;01mreturn\u001B[39;00m \u001B[38;5;28mself\u001B[39m\u001B[38;5;241m.\u001B[39m_sslobj\u001B[38;5;241m.\u001B[39mread(\u001B[38;5;28mlen\u001B[39m)\n",
      "\u001B[0;31mKeyboardInterrupt\u001B[0m: "
     ]
    }
   ],
   "execution_count": 7
  },
  {
   "metadata": {},
   "cell_type": "markdown",
   "source": "I have modified the bing_image_downloader package to download images straight to the `output_dir` instead of creating a subdirectory for each search term. Instead it names the images with the search term and a number.",
   "id": "a9c9a57ba85a5f40"
  },
  {
   "metadata": {},
   "cell_type": "markdown",
   "source": "It turns out that now it's harder to scrape images from Google Images and DuckDuckGo. We'll only scrape from Bing for now. The rest of our data will come from Pl@ntNet-300K image dataset.",
   "id": "40a93a9f54e535be"
  }
 ],
 "metadata": {
  "kernelspec": {
   "display_name": "Python 3",
   "language": "python",
   "name": "python3"
  },
  "language_info": {
   "codemirror_mode": {
    "name": "ipython",
    "version": 2
   },
   "file_extension": ".py",
   "mimetype": "text/x-python",
   "name": "python",
   "nbconvert_exporter": "python",
   "pygments_lexer": "ipython2",
   "version": "2.7.6"
  }
 },
 "nbformat": 4,
 "nbformat_minor": 5
}
