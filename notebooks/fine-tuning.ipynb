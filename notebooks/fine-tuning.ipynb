{
 "cells": [
  {
   "cell_type": "code",
   "id": "initial_id",
   "metadata": {
    "collapsed": true,
    "ExecuteTime": {
     "end_time": "2024-08-29T18:55:59.497758Z",
     "start_time": "2024-08-29T18:55:51.014295Z"
    }
   },
   "source": [
    "import torch\n",
    "from torchvision.models import resnet34\n",
    "from torch import nn\n",
    "from utils import load_model\n",
    "from pathlib import Path\n",
    "import os\n",
    "\n",
    "# load the plantnet model\n",
    "plantnet_model_path = Path(\"../models/plantnet_resnet34_best.tar\")\n",
    "plantnet_model = resnet34(num_classes=1081)\n",
    "\n",
    "load_model(plantnet_model, filename=plantnet_model_path, use_gpu=True)\n"
   ],
   "outputs": [
    {
     "name": "stderr",
     "output_type": "stream",
     "text": [
      "/home/kaka/repo/plants-toxic-for-cats/notebooks/utils.py:75: FutureWarning: You are using `torch.load` with `weights_only=False` (the current default value), which uses the default pickle module implicitly. It is possible to construct malicious pickle data which will execute arbitrary code during unpickling (See https://github.com/pytorch/pytorch/blob/main/SECURITY.md#untrusted-models for more details). In a future release, the default value for `weights_only` will be flipped to `True`. This limits the functions that could be executed during unpickling. Arbitrary objects will no longer be allowed to be loaded via this mode unless they are explicitly allowlisted by the user via `torch.serialization.add_safe_globals`. We recommend you start setting `weights_only=True` for any use case where you don't have full control of the loaded file. Please open an issue on GitHub for any issues related to this experimental feature.\n",
      "  d = torch.load(filename, map_location=device)\n"
     ]
    },
    {
     "data": {
      "text/plain": [
       "22"
      ]
     },
     "execution_count": 1,
     "metadata": {},
     "output_type": "execute_result"
    }
   ],
   "execution_count": 1
  },
  {
   "metadata": {
    "ExecuteTime": {
     "end_time": "2024-08-29T19:02:13.769233Z",
     "start_time": "2024-08-29T19:02:13.763066Z"
    }
   },
   "cell_type": "code",
   "source": [
    "# setup device agnostic code\n",
    "device = \"cuda\" if torch.cuda.is_available() else \"cpu\"\n",
    "device"
   ],
   "id": "c07aa28749688d66",
   "outputs": [
    {
     "data": {
      "text/plain": [
       "'cuda'"
      ]
     },
     "execution_count": 2,
     "metadata": {},
     "output_type": "execute_result"
    }
   ],
   "execution_count": 2
  },
  {
   "metadata": {
    "ExecuteTime": {
     "end_time": "2024-08-29T19:02:15.428784Z",
     "start_time": "2024-08-29T19:02:15.413604Z"
    }
   },
   "cell_type": "code",
   "source": [
    "data_path = Path(\"../data/train_test\")\n",
    "train_path = data_path / \"train\"\n",
    "test_path = data_path / \"test\"\n",
    "new_species_names = [name for name in os.listdir(train_path) if os.path.isdir(os.path.join(train_path, name))]\n",
    "new_species_names = sorted(new_species_names)\n",
    "print(new_species_names)"
   ],
   "id": "7e6da1c3f268ae83",
   "outputs": [
    {
     "name": "stdout",
     "output_type": "stream",
     "text": [
      "['African Violet', 'Aloe Vera plant', 'Anthurium (Anthurium andraeanum)', 'Areca Palm', 'Asparagus Fern (Asparagus setaceus)', 'Begonia (Begonia spp.)', 'Bird of Paradise (Strelitzia reginae)', \"Bird's Nest Fern\", 'Boston Fern', 'Bromeliad', 'Calathea', 'Cast Iron Plant', 'Chinese Money Plant', 'Chinese evergreen', 'Christmas Cactus', 'Croton', 'Ctenanthe', 'Dracaena', 'Dumb Cane (Dieffenbachia spp.)', 'Elephant Ear (Alocasia spp.)', 'English Ivy (Hedera helix)', 'Ficus Benjamina (Ficus benjamina)', 'Grape Ivy', 'Hoya', 'Iron Cross begonia', 'Jade plant', 'Kalanchoe', 'Lipstick Plant', 'Money Tree', 'Monstera Deliciosa (Monstera deliciosa)', 'Moth Orchid', 'Norfolk Island Pine', 'Orchid', 'Parlor Palm', 'Peace lily', 'Peperomia', 'Philodendron', 'Polka Dot Plant', 'Ponytail Palm', 'Pothos', 'Prayer Plant', 'Rattlesnake Plant', 'Rex Begonia', 'Rubber Plant', 'Schefflera', 'Snake plant', 'Spider Plant', 'String of Hearts Plant', 'Tradescantia', 'Umbrella Plant', 'Venus Flytrap', 'Yucca', 'Zamioculcas zamiifolia']\n"
     ]
    }
   ],
   "execution_count": 3
  },
  {
   "metadata": {
    "ExecuteTime": {
     "end_time": "2024-08-29T19:06:24.081665Z",
     "start_time": "2024-08-29T19:06:24.059178Z"
    }
   },
   "cell_type": "code",
   "source": [
    "# freeze all the layers\n",
    "for param in plantnet_model.parameters():\n",
    "    param.requires_grad = False\n",
    "    \n",
    "# replace the final layer\n",
    "num_features = plantnet_model.fc.in_features\n",
    "# num_old_classes = 1081\n",
    "num_new_classes = len(new_species_names)\n",
    "#um_total_classes = num_old_classes + num_new_classes\n",
    "\n",
    "#plantnet_model.fc = nn.Linear(num_features, num_total_classes)\n",
    "plantnet_model.fc = nn.Linear(num_features, num_new_classes)\n",
    "# initialize weights for new classes\n",
    "# with torch.no_grad():\n",
    "#     nn.init.zeros_(plantnet_model.fc.weight[num_old_classes:])\n",
    "#     nn.init.zeros_(plantnet_model.fc.bias[num_old_classes:])\n"
   ],
   "id": "1f4d230c0a5ff34c",
   "outputs": [],
   "execution_count": 8
  },
  {
   "metadata": {
    "ExecuteTime": {
     "end_time": "2024-08-29T19:06:48.572806Z",
     "start_time": "2024-08-29T19:06:48.540146Z"
    }
   },
   "cell_type": "code",
   "source": [
    "# define transformations\n",
    "from torchvision.transforms import v2\n",
    "from torchvision.datasets import ImageFolder\n",
    "\n",
    "transform = v2.Compose([\n",
    "    v2.Resize(256),\n",
    "    v2.CenterCrop(224),\n",
    "    v2.ToImage(), \n",
    "    v2.ToDtype(torch.float32, scale=True),\n",
    "    v2.Normalize(mean=[0.485, 0.456, 0.406], std=[0.229, 0.224, 0.225])\n",
    "])\n",
    "\n",
    "# load the dataset\n",
    "train_dataset = ImageFolder(train_path, transform=transform)\n",
    "test_dataset = ImageFolder(test_path, transform=transform)"
   ],
   "id": "83a0fdbd25877f14",
   "outputs": [],
   "execution_count": 9
  },
  {
   "metadata": {
    "ExecuteTime": {
     "end_time": "2024-08-29T19:02:27.213476Z",
     "start_time": "2024-08-29T19:02:27.194377Z"
    }
   },
   "cell_type": "code",
   "source": [
    "from torch.utils.data import Dataset\n",
    "\n",
    "class OffsetLabelData(Dataset):\n",
    "    def __init__(self, original_dataset, offset):\n",
    "        self.original_dataset = original_dataset\n",
    "        self.offset = offset\n",
    "        \n",
    "    def __len__(self):\n",
    "        return len(self.original_dataset)\n",
    "    \n",
    "    def __getitem__(self, idx):\n",
    "        image, label = self.original_dataset[idx]\n",
    "        label += self.offset\n",
    "        \n",
    "        return image, label"
   ],
   "id": "5ea1bd9993f01bab",
   "outputs": [],
   "execution_count": 6
  },
  {
   "metadata": {
    "ExecuteTime": {
     "end_time": "2024-08-29T19:02:55.992211Z",
     "start_time": "2024-08-29T19:02:55.987851Z"
    }
   },
   "cell_type": "code",
   "source": [
    "# offset the dataset so we have new labels\n",
    "#offset_train_dataset = OffsetLabelData(train_dataset, num_old_classes)\n",
    "#offset_test_dataset = OffsetLabelData(test_dataset, num_old_classes)"
   ],
   "id": "541ef1a1b53029d9",
   "outputs": [],
   "execution_count": 7
  },
  {
   "metadata": {
    "ExecuteTime": {
     "end_time": "2024-08-29T19:08:21.478148Z",
     "start_time": "2024-08-29T19:08:21.475526Z"
    }
   },
   "cell_type": "code",
   "source": [
    "from torch.utils.data import DataLoader\n",
    "#train_loader = DataLoader(offset_train_dataset, batch_size=32, shuffle=True)\n",
    "#test_loader = DataLoader(offset_test_dataset, batch_size=32, shuffle=False)\n",
    "train_loader = DataLoader(train_dataset, batch_size=32, shuffle=True)\n",
    "test_loader = DataLoader(test_dataset, batch_size=32, shuffle=False)\n",
    "\n",
    "original_class_to_idx = train_dataset.class_to_idx\n",
    "#new_class_to_idx = {class_name: idx + 1081 for class_name, idx in original_class_to_idx.items()}\n",
    "#new_class_to_idx"
   ],
   "id": "36bd39560dd12cab",
   "outputs": [],
   "execution_count": 10
  },
  {
   "metadata": {
    "ExecuteTime": {
     "end_time": "2024-08-19T19:39:19.049548Z",
     "start_time": "2024-08-19T19:39:19.045625Z"
    }
   },
   "cell_type": "code",
   "source": [
    "# define the loss function\n",
    "import torch.nn.functional as F\n",
    "\n",
    "def custom_loss(outputs, targets):\n",
    "    # only consider outputs for new classes\n",
    "    new_class_outputs = outputs[:, 1081:]\n",
    "    \n",
    "    # adjust targets to start from 0 for new classes\n",
    "    adjusted_targets = targets - 1081\n",
    "    return F.cross_entropy(new_class_outputs, adjusted_targets)\n",
    "\n",
    "criterion = custom_loss"
   ],
   "id": "542c6a701ade7f1c",
   "outputs": [],
   "execution_count": 10
  },
  {
   "metadata": {
    "ExecuteTime": {
     "end_time": "2024-08-29T19:09:18.328468Z",
     "start_time": "2024-08-29T19:09:18.326465Z"
    }
   },
   "cell_type": "code",
   "source": "criterion = nn.CrossEntropyLoss()",
   "id": "8e51e90ba1e9f927",
   "outputs": [],
   "execution_count": 11
  },
  {
   "metadata": {
    "ExecuteTime": {
     "end_time": "2024-08-29T19:10:48.260987Z",
     "start_time": "2024-08-29T19:10:48.236875Z"
    }
   },
   "cell_type": "code",
   "source": [
    "from tqdm import tqdm\n",
    "\n",
    "def train_test_loop(model, train_loader, test_loader, custom_loss, device, num_epochs=10, learning_rate=0.001):\n",
    "    model.to(device)\n",
    "    optimizer = torch.optim.Adam(model.parameters(), lr=learning_rate)\n",
    "    \n",
    "    train_losses = []\n",
    "    test_losses = []\n",
    "    \n",
    "    for epoch in range(num_epochs):\n",
    "        model.train()\n",
    "        train_loss = 0.0\n",
    "        train_batches = 0\n",
    "        \n",
    "        # Training loop\n",
    "        train_pbar = tqdm(train_loader, desc=f'Epoch {epoch+1}/{num_epochs} [Train]')\n",
    "        for inputs, labels in train_pbar:\n",
    "            inputs, labels = inputs.to(device), labels.to(device)\n",
    "            \n",
    "            optimizer.zero_grad()\n",
    "            outputs = model(inputs)\n",
    "            #loss = custom_loss(outputs, labels)\n",
    "            loss = criterion(outputs, labels)\n",
    "            loss.backward()\n",
    "            optimizer.step()\n",
    "            \n",
    "            train_loss += loss.item()\n",
    "            train_batches += 1\n",
    "            train_pbar.set_postfix({'loss': train_loss / train_batches})\n",
    "        \n",
    "        avg_train_loss = train_loss / train_batches\n",
    "        train_losses.append(avg_train_loss)\n",
    "        \n",
    "        # Testing loop\n",
    "        model.eval()\n",
    "        test_loss = 0.0\n",
    "        test_batches = 0\n",
    "        \n",
    "        with torch.inference_mode():\n",
    "            test_pbar = tqdm(test_loader, desc=f'Epoch {epoch+1}/{num_epochs} [Test]')\n",
    "            for inputs, labels in test_pbar:\n",
    "                inputs, labels = inputs.to(device), labels.to(device)\n",
    "                \n",
    "                outputs = model(inputs)\n",
    "                #loss = custom_loss(outputs, labels)\n",
    "                loss = criterion(outputs, labels)\n",
    "                \n",
    "                test_loss += loss.item()\n",
    "                test_batches += 1\n",
    "                test_pbar.set_postfix({'loss': test_loss / test_batches})\n",
    "        \n",
    "        avg_test_loss = test_loss / test_batches\n",
    "        test_losses.append(avg_test_loss)\n",
    "        \n",
    "        print(f'Epoch {epoch+1}/{num_epochs}:')\n",
    "        print(f'  Train Loss: {avg_train_loss:.4f}')\n",
    "        print(f'  Test Loss: {avg_test_loss:.4f}')\n",
    "    \n",
    "    return train_losses, test_losses"
   ],
   "id": "e62d9c6dd28135b3",
   "outputs": [],
   "execution_count": 12
  },
  {
   "metadata": {
    "ExecuteTime": {
     "end_time": "2024-08-29T21:22:40.436332Z",
     "start_time": "2024-08-29T19:11:13.201623Z"
    }
   },
   "cell_type": "code",
   "source": [
    "# run the training and testing loop\n",
    "num_epochs = 10\n",
    "device = \"cuda\" if torch.cuda.is_available() else \"cpu\"\n",
    "train_losses, test_losses = train_test_loop(plantnet_model, train_loader, test_loader, criterion, device, num_epochs)\n"
   ],
   "id": "d421e2bde914971e",
   "outputs": [
    {
     "name": "stderr",
     "output_type": "stream",
     "text": [
      "Epoch 1/10 [Train]:   4%|▎         | 16/432 [00:28<10:01,  1.45s/it, loss=3.83]/home/kaka/anaconda3/envs/plants-toxic-for-cats/lib/python3.11/site-packages/PIL/Image.py:1056: UserWarning: Palette images with Transparency expressed in bytes should be converted to RGBA images\n",
      "  warnings.warn(\n",
      "Epoch 1/10 [Train]: 100%|██████████| 432/432 [11:14<00:00,  1.56s/it, loss=1.7] \n",
      "Epoch 1/10 [Test]:  51%|█████▏    | 56/109 [01:48<01:35,  1.80s/it, loss=0.948]/home/kaka/anaconda3/envs/plants-toxic-for-cats/lib/python3.11/site-packages/PIL/TiffImagePlugin.py:900: UserWarning: Corrupt EXIF data.  Expecting to read 4 bytes but only got 2. \n",
      "  warnings.warn(str(msg))\n",
      "Epoch 1/10 [Test]: 100%|██████████| 109/109 [03:06<00:00,  1.71s/it, loss=1.03]\n"
     ]
    },
    {
     "name": "stdout",
     "output_type": "stream",
     "text": [
      "Epoch 1/10:\n",
      "  Train Loss: 1.7003\n",
      "  Test Loss: 1.0258\n"
     ]
    },
    {
     "name": "stderr",
     "output_type": "stream",
     "text": [
      "Epoch 2/10 [Train]: 100%|██████████| 432/432 [11:15<00:00,  1.56s/it, loss=1.03]\n",
      "Epoch 2/10 [Test]: 100%|██████████| 109/109 [02:46<00:00,  1.52s/it, loss=0.897]\n"
     ]
    },
    {
     "name": "stdout",
     "output_type": "stream",
     "text": [
      "Epoch 2/10:\n",
      "  Train Loss: 1.0341\n",
      "  Test Loss: 0.8966\n"
     ]
    },
    {
     "name": "stderr",
     "output_type": "stream",
     "text": [
      "Epoch 3/10 [Train]: 100%|██████████| 432/432 [11:47<00:00,  1.64s/it, loss=0.921]\n",
      "Epoch 3/10 [Test]: 100%|██████████| 109/109 [03:08<00:00,  1.73s/it, loss=0.851]\n"
     ]
    },
    {
     "name": "stdout",
     "output_type": "stream",
     "text": [
      "Epoch 3/10:\n",
      "  Train Loss: 0.9206\n",
      "  Test Loss: 0.8508\n"
     ]
    },
    {
     "name": "stderr",
     "output_type": "stream",
     "text": [
      "Epoch 4/10 [Train]: 100%|██████████| 432/432 [10:41<00:00,  1.49s/it, loss=0.863]\n",
      "Epoch 4/10 [Test]: 100%|██████████| 109/109 [02:39<00:00,  1.46s/it, loss=0.843]\n"
     ]
    },
    {
     "name": "stdout",
     "output_type": "stream",
     "text": [
      "Epoch 4/10:\n",
      "  Train Loss: 0.8626\n",
      "  Test Loss: 0.8430\n"
     ]
    },
    {
     "name": "stderr",
     "output_type": "stream",
     "text": [
      "Epoch 5/10 [Train]: 100%|██████████| 432/432 [09:51<00:00,  1.37s/it, loss=0.819]\n",
      "Epoch 5/10 [Test]: 100%|██████████| 109/109 [02:31<00:00,  1.39s/it, loss=0.824]\n"
     ]
    },
    {
     "name": "stdout",
     "output_type": "stream",
     "text": [
      "Epoch 5/10:\n",
      "  Train Loss: 0.8193\n",
      "  Test Loss: 0.8237\n"
     ]
    },
    {
     "name": "stderr",
     "output_type": "stream",
     "text": [
      "Epoch 6/10 [Train]: 100%|██████████| 432/432 [09:55<00:00,  1.38s/it, loss=0.782]\n",
      "Epoch 6/10 [Test]: 100%|██████████| 109/109 [02:35<00:00,  1.43s/it, loss=0.82] \n"
     ]
    },
    {
     "name": "stdout",
     "output_type": "stream",
     "text": [
      "Epoch 6/10:\n",
      "  Train Loss: 0.7816\n",
      "  Test Loss: 0.8197\n"
     ]
    },
    {
     "name": "stderr",
     "output_type": "stream",
     "text": [
      "Epoch 7/10 [Train]: 100%|██████████| 432/432 [09:57<00:00,  1.38s/it, loss=0.75] \n",
      "Epoch 7/10 [Test]: 100%|██████████| 109/109 [02:31<00:00,  1.39s/it, loss=0.814]\n"
     ]
    },
    {
     "name": "stdout",
     "output_type": "stream",
     "text": [
      "Epoch 7/10:\n",
      "  Train Loss: 0.7495\n",
      "  Test Loss: 0.8141\n"
     ]
    },
    {
     "name": "stderr",
     "output_type": "stream",
     "text": [
      "Epoch 8/10 [Train]: 100%|██████████| 432/432 [09:53<00:00,  1.37s/it, loss=0.732]\n",
      "Epoch 8/10 [Test]: 100%|██████████| 109/109 [02:29<00:00,  1.37s/it, loss=0.783]\n"
     ]
    },
    {
     "name": "stdout",
     "output_type": "stream",
     "text": [
      "Epoch 8/10:\n",
      "  Train Loss: 0.7323\n",
      "  Test Loss: 0.7835\n"
     ]
    },
    {
     "name": "stderr",
     "output_type": "stream",
     "text": [
      "Epoch 9/10 [Train]: 100%|██████████| 432/432 [10:06<00:00,  1.40s/it, loss=0.708]\n",
      "Epoch 9/10 [Test]: 100%|██████████| 109/109 [02:30<00:00,  1.38s/it, loss=0.799]\n"
     ]
    },
    {
     "name": "stdout",
     "output_type": "stream",
     "text": [
      "Epoch 9/10:\n",
      "  Train Loss: 0.7080\n",
      "  Test Loss: 0.7994\n"
     ]
    },
    {
     "name": "stderr",
     "output_type": "stream",
     "text": [
      "Epoch 10/10 [Train]: 100%|██████████| 432/432 [09:53<00:00,  1.37s/it, loss=0.693]\n",
      "Epoch 10/10 [Test]: 100%|██████████| 109/109 [02:29<00:00,  1.37s/it, loss=0.783]"
     ]
    },
    {
     "name": "stdout",
     "output_type": "stream",
     "text": [
      "Epoch 10/10:\n",
      "  Train Loss: 0.6927\n",
      "  Test Loss: 0.7830\n"
     ]
    },
    {
     "name": "stderr",
     "output_type": "stream",
     "text": [
      "\n"
     ]
    }
   ],
   "execution_count": 13
  },
  {
   "metadata": {
    "ExecuteTime": {
     "end_time": "2024-08-29T21:35:28.540162Z",
     "start_time": "2024-08-29T21:35:28.434411Z"
    }
   },
   "cell_type": "code",
   "source": [
    "# save the model\n",
    "save_path = Path(\"../models/plantnet_finetuned_resnet34_v2.tar\")\n",
    "torch.save(plantnet_model.state_dict(), save_path)"
   ],
   "id": "b974fd6565dfbde0",
   "outputs": [],
   "execution_count": 15
  },
  {
   "metadata": {
    "ExecuteTime": {
     "end_time": "2024-08-29T21:35:36.604921Z",
     "start_time": "2024-08-29T21:35:36.589452Z"
    }
   },
   "cell_type": "code",
   "source": [
    "import json\n",
    "\n",
    "loss_data = {\n",
    "    \"train_losses\": train_losses,\n",
    "    \"test_losses\": test_losses\n",
    "}\n",
    "\n",
    "with open(\"../models/plantnet_finetuned_resnet34_v2_losses.json\", \"w\") as f:\n",
    "    json.dump(loss_data, f)\n",
    "    "
   ],
   "id": "33ec270f9f8e4de0",
   "outputs": [],
   "execution_count": 16
  },
  {
   "metadata": {
    "ExecuteTime": {
     "end_time": "2024-08-29T21:35:41.010205Z",
     "start_time": "2024-08-29T21:35:39.592050Z"
    }
   },
   "cell_type": "code",
   "source": [
    "import matplotlib.pyplot as plt\n",
    "\n",
    "# Plot the losses\n",
    "plt.figure(figsize=(10, 6))\n",
    "plt.plot(range(1, num_epochs+1), train_losses, label='Train Loss')\n",
    "plt.plot(range(1, num_epochs+1), test_losses, label='Test Loss')\n",
    "plt.xlabel('Epoch')\n",
    "plt.ylabel('Loss')\n",
    "plt.title('Training and Testing Loss')\n",
    "plt.legend()\n",
    "plt.savefig('loss_plot.png')\n",
    "plt.show()"
   ],
   "id": "85e3cc2eb0903650",
   "outputs": [
    {
     "data": {
      "text/plain": [
       "<Figure size 1000x600 with 1 Axes>"
      ],
      "image/png": "[encoded data removed]"
     },
     "metadata": {},
     "output_type": "display_data"
    }
   ],
   "execution_count": 17
  },
  {
   "metadata": {
    "ExecuteTime": {
     "end_time": "2024-08-29T21:36:05.463454Z",
     "start_time": "2024-08-29T21:36:05.458427Z"
    }
   },
   "cell_type": "code",
   "source": [
    "\n",
    "import torch\n",
    "from torchvision.transforms import v2\n",
    "from PIL import Image\n",
    "import os\n",
    "\n",
    "def predict_image(model, image_path, device, class_names=None):\n",
    "    # Ensure the model is in evaluation mode\n",
    "    model.eval()\n",
    "    \n",
    "    # Define the same transformations used during training\n",
    "    transform = v2.Compose([\n",
    "        v2.Resize(256),\n",
    "        v2.CenterCrop(224),\n",
    "        v2.ToImage(), \n",
    "        v2.ToDtype(torch.float32, scale=True),\n",
    "        v2.Normalize(mean=[0.485, 0.456, 0.406], std=[0.229, 0.224, 0.225])\n",
    "    ])\n",
    "    \n",
    "    # Load and preprocess the image\n",
    "    try:\n",
    "        image = Image.open(image_path).convert('RGB')\n",
    "    except:\n",
    "        print(f\"Error opening image file: {image_path}\")\n",
    "        return None\n",
    "    \n",
    "    image_tensor = transform(image).unsqueeze(0).to(device)\n",
    "    \n",
    "    # Make prediction\n",
    "    with torch.no_grad():\n",
    "        outputs = model(image_tensor)\n",
    "        \n",
    "    # Get the predicted class\n",
    "    _, predicted_idx = torch.max(outputs, 1)\n",
    "    \n",
    "    # Convert to class name\n",
    "    if class_names is None:\n",
    "        predicted_class = predicted_idx.item()\n",
    "    else:\n",
    "        predicted_class = class_names[predicted_idx.item() - 1081]\n",
    "    \n",
    "    # Get the probability\n",
    "    probabilities = torch.nn.functional.softmax(outputs, dim=1)\n",
    "    confidence = probabilities[0][predicted_idx.item()].item()\n",
    "    top5_prob, top5_catid = torch.topk(probabilities, 5)\n",
    "    \n",
    "    return predicted_class, confidence, top5_prob, top5_catid"
   ],
   "id": "20136be2346e1800",
   "outputs": [],
   "execution_count": 18
  },
  {
   "metadata": {
    "ExecuteTime": {
     "end_time": "2024-08-29T21:38:48.287311Z",
     "start_time": "2024-08-29T21:38:48.280035Z"
    }
   },
   "cell_type": "code",
   "source": "class_names = list(original_class_to_idx.keys())",
   "id": "7aaef5ff883914c",
   "outputs": [],
   "execution_count": 19
  },
  {
   "metadata": {
    "ExecuteTime": {
     "end_time": "2024-08-29T21:51:43.684084Z",
     "start_time": "2024-08-29T21:51:43.418834Z"
    }
   },
   "cell_type": "code",
   "source": [
    "img_path = Path(\"../data/7.webp\")\n",
    "\n",
    "predicted_class, confidence, top5_prob, top5_catid = predict_image(plantnet_model, img_path, device)\n",
    "\n",
    "print(\"Predicted class:\", class_names[predicted_class])\n",
    "print(predicted_class, confidence, top5_prob, top5_catid)"
   ],
   "id": "de76f0575a512311",
   "outputs": [
    {
     "name": "stdout",
     "output_type": "stream",
     "text": [
      "Predicted class: Dracaena\n",
      "17 0.5516626238822937 tensor([[0.5517, 0.1316, 0.0937, 0.0866, 0.0553]], device='cuda:0') tensor([[17, 38, 51, 33, 29]], device='cuda:0')\n"
     ]
    }
   ],
   "execution_count": 33
  },
  {
   "metadata": {
    "ExecuteTime": {
     "end_time": "2024-08-29T21:52:11.967948Z",
     "start_time": "2024-08-29T21:52:11.957422Z"
    }
   },
   "cell_type": "code",
   "source": "class_names[]",
   "id": "ca857d4731ec363b",
   "outputs": [
    {
     "data": {
      "text/plain": [
       "'Yucca'"
      ]
     },
     "execution_count": 35,
     "metadata": {},
     "output_type": "execute_result"
    }
   ],
   "execution_count": 35
  },
  {
   "metadata": {},
   "cell_type": "code",
   "outputs": [],
   "execution_count": null,
   "source": "",
   "id": "56ac5111ca6091bd"
  }
 ],
 "metadata": {
  "kernelspec": {
   "display_name": "Python 3",
   "language": "python",
   "name": "python3"
  },
  "language_info": {
   "codemirror_mode": {
    "name": "ipython",
    "version": 2
   },
   "file_extension": ".py",
   "mimetype": "text/x-python",
   "name": "python",
   "nbconvert_exporter": "python",
   "pygments_lexer": "ipython2",
   "version": "2.7.6"
  }
 },
 "nbformat": 4,
 "nbformat_minor": 5
}
